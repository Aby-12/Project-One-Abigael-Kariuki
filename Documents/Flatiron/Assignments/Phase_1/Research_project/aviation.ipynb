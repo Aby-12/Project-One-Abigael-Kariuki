{
 "cells": [
  {
   "cell_type": "markdown",
   "id": "6ea29404",
   "metadata": {},
   "source": [
    "This notebook examines aviation accident data to assess the risk of fatal and severe accidents across several key factors, including:\n",
    "\n",
    "1. Flight Phases: Takeoff, landing, maneuvering, etc.\n",
    "2. Weather Conditions: Impact of weather (e.g., rain, fog, wind) on accidents.\n",
    "3. Aircraft and Engine Types: Model, make, and number of engines.\n",
    "4. Purpose of Flight: Commercial, private, training, etc.\n",
    "5. Accident Severity: Categorized into fatal, serious, and minor injuries.\n",
    "\n",
    "By analyzing these factors, the goal is to uncover trends and provide actionable recommendations for our company that is expanding into new industries to diversify its portfolio. This analysis uses data from the National Transportation Safety Board (NTSB), covering civil aviation accidents from 1962 to 2023 in the United States and international waters."
   ]
  },
  {
   "cell_type": "markdown",
   "id": "dfea755d",
   "metadata": {},
   "source": [
    "## Step 1: Import libraries\n",
    "Firstly, we import all the necessary libraries required for data manipulation, analysis, and visualization. These libraries will help with data cleaning, statistical operations, and visual representation of results."
   ]
  },
  {
   "cell_type": "code",
   "execution_count": null,
   "id": "3328cae3",
   "metadata": {},
   "outputs": [],
   "source": [
    "# --- Import libraries and loading dataset ---\n",
    "import pandas as pd\n",
    "import numpy as np\n",
    "import matplotlib.pyplot as plt\n",
    "import seaborn as sns\n",
    "\n",
    "# --- Use 'ggplot' style for more visually appealing plots\n",
    "plt.style.use('ggplot')"
   ]
  },
  {
   "cell_type": "code",
   "execution_count": null,
   "id": "0669b615",
   "metadata": {},
   "outputs": [],
   "source": []
  }
 ],
 "metadata": {
  "language_info": {
   "name": "python"
  }
 },
 "nbformat": 4,
 "nbformat_minor": 5
}
